{
  "cells": [
    {
      "cell_type": "markdown",
      "metadata": {
        "id": "view-in-github",
        "colab_type": "text"
      },
      "source": [
        "<a href=\"https://colab.research.google.com/github/fereshtehdehkhoda/Example42-RMSE/blob/main/S12soale4.ipynb\" target=\"_parent\"><img src=\"https://colab.research.google.com/assets/colab-badge.svg\" alt=\"Open In Colab\"/></a>"
      ]
    },
    {
      "cell_type": "code",
      "execution_count": null,
      "id": "a0556572-07a5-43c8-af7f-7d30a0feda4d",
      "metadata": {
        "id": "a0556572-07a5-43c8-af7f-7d30a0feda4d"
      },
      "outputs": [],
      "source": [
        "#روی داده‌های آموزش hw12_train.csv یک مدل رگرسیون خطی ساده بسازید. شاخص RMSE روی داده‌های آموزش چقدر است؟"
      ]
    },
    {
      "cell_type": "code",
      "execution_count": null,
      "id": "770ad3de-2251-4804-9a4b-0be42d6af55b",
      "metadata": {
        "id": "770ad3de-2251-4804-9a4b-0be42d6af55b"
      },
      "outputs": [],
      "source": [
        "import pandas as pd\n",
        "import numpy as np\n",
        "import matplotlib.pyplot as plt\n",
        "import statsmodels.api as sm"
      ]
    },
    {
      "cell_type": "code",
      "execution_count": null,
      "id": "055fb819-9fa3-49a0-8399-57cc2bc22eef",
      "metadata": {
        "id": "055fb819-9fa3-49a0-8399-57cc2bc22eef"
      },
      "outputs": [],
      "source": [
        "data=pd.read_csv('hw12_train.csv')"
      ]
    },
    {
      "cell_type": "code",
      "execution_count": null,
      "id": "73820cf2-23d4-4783-8077-c7c554996284",
      "metadata": {
        "id": "73820cf2-23d4-4783-8077-c7c554996284",
        "outputId": "d0bd82f2-730c-40a3-d014-63fa89e999c3"
      },
      "outputs": [
        {
          "name": "stdout",
          "output_type": "stream",
          "text": [
            "<class 'pandas.core.frame.DataFrame'>\n",
            "RangeIndex: 350 entries, 0 to 349\n",
            "Data columns (total 2 columns):\n",
            " #   Column  Non-Null Count  Dtype  \n",
            "---  ------  --------------  -----  \n",
            " 0   x       350 non-null    float64\n",
            " 1   y       350 non-null    float64\n",
            "dtypes: float64(2)\n",
            "memory usage: 5.6 KB\n"
          ]
        }
      ],
      "source": [
        "data.info()"
      ]
    },
    {
      "cell_type": "code",
      "execution_count": null,
      "id": "d201d377-d6ec-497b-92cc-013aeb22b81a",
      "metadata": {
        "id": "d201d377-d6ec-497b-92cc-013aeb22b81a"
      },
      "outputs": [],
      "source": [
        "feature=['x']\n",
        "X_train=data[feature]\n",
        "\n",
        "target=\"y\"\n",
        "y_train=data[target]"
      ]
    },
    {
      "cell_type": "code",
      "execution_count": null,
      "id": "cafb4a58-2476-4da3-8a06-1ea715bc2027",
      "metadata": {
        "id": "cafb4a58-2476-4da3-8a06-1ea715bc2027",
        "outputId": "2804ec07-8228-428d-bfb0-7b954ce05c5c"
      },
      "outputs": [
        {
          "name": "stdout",
          "output_type": "stream",
          "text": [
            "RMSE: 1.272\n"
          ]
        }
      ],
      "source": [
        "from sklearn.linear_model import LinearRegression\n",
        "model_1=LinearRegression()\n",
        "model_1.fit(X_train,y_train)\n",
        "\n",
        "y_train_pred_1=model_1.predict(X_train)\n",
        "\n",
        "from sklearn.metrics import root_mean_squared_error\n",
        "print(\"RMSE:\", round(root_mean_squared_error(y_train,y_train_pred_1),3))"
      ]
    },
    {
      "cell_type": "code",
      "execution_count": null,
      "id": "3a1876d9-b35b-4db6-89e3-2ddac7f796df",
      "metadata": {
        "id": "3a1876d9-b35b-4db6-89e3-2ddac7f796df"
      },
      "outputs": [],
      "source": []
    }
  ],
  "metadata": {
    "kernelspec": {
      "display_name": "Python 3 (ipykernel)",
      "language": "python",
      "name": "python3"
    },
    "language_info": {
      "codemirror_mode": {
        "name": "ipython",
        "version": 3
      },
      "file_extension": ".py",
      "mimetype": "text/x-python",
      "name": "python",
      "nbconvert_exporter": "python",
      "pygments_lexer": "ipython3",
      "version": "3.12.4"
    },
    "colab": {
      "provenance": [],
      "include_colab_link": true
    }
  },
  "nbformat": 4,
  "nbformat_minor": 5
}